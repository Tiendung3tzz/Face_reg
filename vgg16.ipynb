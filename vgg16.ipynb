{
 "metadata": {
  "colab": {
   "provenance": []
  },
  "kernelspec": {
   "name": "python3",
   "display_name": "Python 3",
   "language": "python"
  },
  "language_info": {
   "name": "python",
   "version": "3.10.12",
   "mimetype": "text/x-python",
   "codemirror_mode": {
    "name": "ipython",
    "version": 3
   },
   "pygments_lexer": "ipython3",
   "nbconvert_exporter": "python",
   "file_extension": ".py"
  },
  "accelerator": "TPU",
  "kaggle": {
   "accelerator": "nvidiaTeslaT4",
   "dataSources": [
    {
     "sourceId": 844929,
     "sourceType": "datasetVersion",
     "datasetId": 446365
    },
    {
     "sourceId": 7219807,
     "sourceType": "datasetVersion",
     "datasetId": 4178671
    }
   ],
   "dockerImageVersionId": 30627,
   "isInternetEnabled": true,
   "language": "python",
   "sourceType": "notebook",
   "isGpuEnabled": true
  }
 },
 "nbformat_minor": 4,
 "nbformat": 4,
 "cells": [
  {
   "cell_type": "code",
   "source": [
    "from tensorflow.keras.preprocessing.image import ImageDataGenerator\n",
    "from tensorflow.keras.optimizers import Adam\n",
    "from tensorflow.keras.preprocessing.image import img_to_array\n",
    "from tensorflow.keras.utils import to_categorical, plot_model\n",
    "from tensorflow.keras.models import Sequential\n",
    "from tensorflow.keras.layers import BatchNormalization, Conv2D, MaxPooling2D, Activation, Flatten, Dropout, Dense\n",
    "from tensorflow.keras import backend as K\n",
    "from sklearn.model_selection import train_test_split\n",
    "import matplotlib.pyplot as plt\n",
    "import numpy as np\n",
    "import random\n",
    "import cv2\n",
    "import os\n",
    "import glob"
   ],
   "metadata": {
    "ExecuteTime": {
     "end_time": "2023-12-16T19:30:48.788069600Z",
     "start_time": "2023-12-16T19:30:48.773423900Z"
    },
    "id": "bsP2mh7-be2u",
    "execution": {
     "iopub.status.busy": "2023-12-17T10:23:30.607297Z",
     "iopub.execute_input": "2023-12-17T10:23:30.607531Z",
     "iopub.status.idle": "2023-12-17T10:23:44.155455Z",
     "shell.execute_reply.started": "2023-12-17T10:23:30.607509Z",
     "shell.execute_reply": "2023-12-17T10:23:44.154387Z"
    },
    "trusted": true
   },
   "execution_count": 1,
   "outputs": [
    {
     "name": "stderr",
     "text": "/opt/conda/lib/python3.10/site-packages/scipy/__init__.py:146: UserWarning: A NumPy version >=1.16.5 and <1.23.0 is required for this version of SciPy (detected version 1.24.3\n  warnings.warn(f\"A NumPy version >={np_minversion} and <{np_maxversion}\"\n",
     "output_type": "stream"
    }
   ]
  },
  {
   "cell_type": "code",
   "source": [
    "# initial parameters\n",
    "epochs = 100\n",
    "lr = 1e-3\n",
    "batch_size = 64\n",
    "classes = 2\n",
    "img_dims = (96,96,3)"
   ],
   "metadata": {
    "id": "BujWV1W1JLVv",
    "ExecuteTime": {
     "end_time": "2023-12-16T19:30:50.321006700Z",
     "start_time": "2023-12-16T19:30:50.313998800Z"
    },
    "execution": {
     "iopub.status.busy": "2023-12-17T10:23:47.194771Z",
     "iopub.execute_input": "2023-12-17T10:23:47.195409Z",
     "iopub.status.idle": "2023-12-17T10:23:47.200213Z",
     "shell.execute_reply.started": "2023-12-17T10:23:47.195377Z",
     "shell.execute_reply": "2023-12-17T10:23:47.199200Z"
    },
    "trusted": true
   },
   "execution_count": 2,
   "outputs": []
  },
  {
   "cell_type": "code",
   "source": [
    "data_train = []\n",
    "labels_train = []\n",
    "data_test = []\n",
    "labels_test = []"
   ],
   "metadata": {
    "id": "AAk1KHOQJOnI",
    "ExecuteTime": {
     "end_time": "2023-12-16T19:30:52.288678200Z",
     "start_time": "2023-12-16T19:30:52.260279200Z"
    },
    "execution": {
     "iopub.status.busy": "2023-12-17T10:23:49.824103Z",
     "iopub.execute_input": "2023-12-17T10:23:49.824677Z",
     "iopub.status.idle": "2023-12-17T10:23:49.829123Z",
     "shell.execute_reply.started": "2023-12-17T10:23:49.824645Z",
     "shell.execute_reply": "2023-12-17T10:23:49.828124Z"
    },
    "trusted": true
   },
   "execution_count": 3,
   "outputs": []
  },
  {
   "cell_type": "code",
   "source": [
    "import os\n",
    "print(os.listdir('/kaggle/input/gender-npy/'))"
   ],
   "metadata": {
    "execution": {
     "iopub.status.busy": "2023-12-17T10:23:55.694307Z",
     "iopub.execute_input": "2023-12-17T10:23:55.694640Z",
     "iopub.status.idle": "2023-12-17T10:23:55.704455Z",
     "shell.execute_reply.started": "2023-12-17T10:23:55.694613Z",
     "shell.execute_reply": "2023-12-17T10:23:55.703472Z"
    },
    "trusted": true
   },
   "execution_count": 4,
   "outputs": [
    {
     "name": "stdout",
     "text": "['data_test.npy', 'trainY.npy', 'testY.npy', 'data_train.npy']\n",
     "output_type": "stream"
    }
   ]
  },
  {
   "cell_type": "code",
   "source": [
    "# Tải lại vectơ trainX từ tệp tin NumPy\n",
    "data_train = np.load('/kaggle/input/gender-npy/data_train.npy')\n",
    "trainY = np.load('/kaggle/input/gender-npy/trainY.npy')\n",
    "data_test = np.load('/kaggle/input/gender-npy/data_test.npy')\n",
    "testY = np.load('/kaggle/input/gender-npy/testY.npy')"
   ],
   "metadata": {
    "ExecuteTime": {
     "end_time": "2023-12-16T19:49:35.507862800Z",
     "start_time": "2023-12-16T19:48:15.723700200Z"
    },
    "id": "GLbIn3sSbe23",
    "execution": {
     "iopub.status.busy": "2023-12-17T10:23:58.450444Z",
     "iopub.execute_input": "2023-12-17T10:23:58.450810Z",
     "iopub.status.idle": "2023-12-17T10:24:48.978800Z",
     "shell.execute_reply.started": "2023-12-17T10:23:58.450782Z",
     "shell.execute_reply": "2023-12-17T10:24:48.977755Z"
    },
    "trusted": true
   },
   "execution_count": 5,
   "outputs": []
  },
  {
   "cell_type": "code",
   "execution_count": null,
   "outputs": [],
   "source": [
    "trainY = to_categorical(trainY, num_classes=2) # [[1, 0], [0, 1], [0, 1], ...]\n",
    "testY = to_categorical(testY, num_classes=2)"
   ],
   "metadata": {
    "collapsed": false
   }
  },
  {
   "cell_type": "code",
   "source": [
    "# augmenting datset\n",
    "aug = ImageDataGenerator(rotation_range=25, width_shift_range=0.1,\n",
    "                         height_shift_range=0.1, shear_range=0.2, zoom_range=0.2,\n",
    "                         horizontal_flip=True, fill_mode=\"nearest\")"
   ],
   "metadata": {
    "id": "hGroUWPyL83T",
    "ExecuteTime": {
     "end_time": "2023-12-16T19:54:48.526963400Z",
     "start_time": "2023-12-16T19:54:48.463457600Z"
    },
    "execution": {
     "iopub.status.busy": "2023-12-17T10:25:18.579147Z",
     "iopub.execute_input": "2023-12-17T10:25:18.579867Z",
     "iopub.status.idle": "2023-12-17T10:25:18.585030Z",
     "shell.execute_reply.started": "2023-12-17T10:25:18.579837Z",
     "shell.execute_reply": "2023-12-17T10:25:18.584070Z"
    },
    "trusted": true
   },
   "execution_count": 7,
   "outputs": []
  },
  {
   "cell_type": "code",
   "source": [
    "from keras.optimizers.schedules import ExponentialDecay\n",
    "from tensorflow.keras.applications import VGG16\n",
    "from tensorflow.keras.preprocessing import image\n",
    "from tensorflow.keras.models import Model\n",
    "from tensorflow.keras.layers import Dense, GlobalAveragePooling2D, Flatten, Dropout\n",
    "from tensorflow.keras.optimizers import SGD\n",
    "from tensorflow.keras.preprocessing.image import ImageDataGenerator"
   ],
   "metadata": {
    "id": "bnI-GdHAN1g7",
    "ExecuteTime": {
     "end_time": "2023-12-16T19:54:49.178119400Z",
     "start_time": "2023-12-16T19:54:49.115764900Z"
    },
    "execution": {
     "iopub.status.busy": "2023-12-17T10:25:20.531322Z",
     "iopub.execute_input": "2023-12-17T10:25:20.531736Z",
     "iopub.status.idle": "2023-12-17T10:25:20.538956Z",
     "shell.execute_reply.started": "2023-12-17T10:25:20.531703Z",
     "shell.execute_reply": "2023-12-17T10:25:20.537947Z"
    },
    "trusted": true
   },
   "execution_count": 8,
   "outputs": []
  },
  {
   "cell_type": "code",
   "source": [
    "decay_lr = ExponentialDecay(initial_learning_rate=lr, decay_steps=epochs, decay_rate=0.9)"
   ],
   "metadata": {
    "ExecuteTime": {
     "end_time": "2023-12-16T19:54:50.287194400Z",
     "start_time": "2023-12-16T19:54:50.271508300Z"
    },
    "id": "zbABtoxWbe25",
    "execution": {
     "iopub.status.busy": "2023-12-17T10:25:23.208513Z",
     "iopub.execute_input": "2023-12-17T10:25:23.209509Z",
     "iopub.status.idle": "2023-12-17T10:25:23.213788Z",
     "shell.execute_reply.started": "2023-12-17T10:25:23.209461Z",
     "shell.execute_reply": "2023-12-17T10:25:23.212876Z"
    },
    "trusted": true
   },
   "execution_count": 9,
   "outputs": []
  },
  {
   "cell_type": "code",
   "source": [
    "base_model = VGG16(weights='imagenet', include_top=False, input_shape=img_dims)\n",
    "model = Sequential()\n",
    "model.add(base_model)\n",
    "model.add(Flatten())\n",
    "model.add(Dense(256, activation='relu'))\n",
    "model.add(Dropout(0.5))\n",
    "model.add(Dense(classes, activation='sigmoid'))\n",
    "for layer in base_model.layers:\n",
    "    layer.trainable = False\n"
   ],
   "metadata": {
    "ExecuteTime": {
     "end_time": "2023-12-16T19:54:53.200997300Z",
     "start_time": "2023-12-16T19:54:51.570450300Z"
    },
    "id": "DMGdKuMCbe25",
    "execution": {
     "iopub.status.busy": "2023-12-17T10:25:26.122019Z",
     "iopub.execute_input": "2023-12-17T10:25:26.122400Z",
     "iopub.status.idle": "2023-12-17T10:25:31.399268Z",
     "shell.execute_reply.started": "2023-12-17T10:25:26.122370Z",
     "shell.execute_reply": "2023-12-17T10:25:31.398505Z"
    },
    "trusted": true
   },
   "execution_count": 10,
   "outputs": [
    {
     "name": "stdout",
     "text": "Downloading data from https://storage.googleapis.com/tensorflow/keras-applications/vgg16/vgg16_weights_tf_dim_ordering_tf_kernels_notop.h5\n58889256/58889256 [==============================] - 0s 0us/step\n",
     "output_type": "stream"
    }
   ]
  },
  {
   "cell_type": "code",
   "source": [
    "# compile the model\n",
    "opt = Adam(learning_rate=lr)\n",
    "model.compile(loss=\"binary_crossentropy\", optimizer=opt, metrics=[\"accuracy\"])"
   ],
   "metadata": {
    "id": "SGB2zKqjMKDm",
    "ExecuteTime": {
     "end_time": "2023-12-16T19:54:54.862680Z",
     "start_time": "2023-12-16T19:54:54.793202100Z"
    },
    "execution": {
     "iopub.status.busy": "2023-12-17T10:25:39.594868Z",
     "iopub.execute_input": "2023-12-17T10:25:39.595252Z",
     "iopub.status.idle": "2023-12-17T10:25:39.613386Z",
     "shell.execute_reply.started": "2023-12-17T10:25:39.595221Z",
     "shell.execute_reply": "2023-12-17T10:25:39.612423Z"
    },
    "trusted": true
   },
   "execution_count": 11,
   "outputs": []
  },
  {
   "cell_type": "code",
   "source": [
    "H = model.fit_generator(aug.flow(data_train, trainY, batch_size=batch_size),\n",
    "                        validation_data=(data_test,testY),\n",
    "                        steps_per_epoch=len(data_train) // batch_size,\n",
    "                        epochs=epochs, verbose=1)"
   ],
   "metadata": {
    "id": "X-em_bz0OOlr",
    "outputId": "0bf797d3-cda1-4994-8ac1-8498772ef898",
    "is_executing": true,
    "ExecuteTime": {
     "start_time": "2023-12-16T19:55:02.064771900Z"
    },
    "execution": {
     "iopub.status.busy": "2023-12-17T10:25:44.155996Z",
     "iopub.execute_input": "2023-12-17T10:25:44.156363Z",
     "iopub.status.idle": "2023-12-17T13:36:38.100746Z",
     "shell.execute_reply.started": "2023-12-17T10:25:44.156335Z",
     "shell.execute_reply": "2023-12-17T13:36:38.099957Z"
    },
    "trusted": true
   },
   "execution_count": 12,
   "outputs": [
    {
     "name": "stderr",
     "text": "/tmp/ipykernel_43/925291933.py:1: UserWarning: `Model.fit_generator` is deprecated and will be removed in a future version. Please use `Model.fit`, which supports generators.\n  H = model.fit_generator(aug.flow(data_train, trainY, batch_size=batch_size),\n",
     "output_type": "stream"
    },
    {
     "name": "stdout",
     "text": "Epoch 1/100\n734/734 [==============================] - 132s 165ms/step - loss: 0.3231 - accuracy: 0.8647 - val_loss: 0.2083 - val_accuracy: 0.9192\nEpoch 2/100\n734/734 [==============================] - 118s 160ms/step - loss: 0.2754 - accuracy: 0.8862 - val_loss: 0.2246 - val_accuracy: 0.9053\nEpoch 3/100\n734/734 [==============================] - 117s 160ms/step - loss: 0.2603 - accuracy: 0.8943 - val_loss: 0.1891 - val_accuracy: 0.9256\nEpoch 4/100\n734/734 [==============================] - 117s 159ms/step - loss: 0.2500 - accuracy: 0.8994 - val_loss: 0.2074 - val_accuracy: 0.9156\nEpoch 5/100\n734/734 [==============================] - 117s 160ms/step - loss: 0.2452 - accuracy: 0.9026 - val_loss: 0.1914 - val_accuracy: 0.9245\nEpoch 6/100\n734/734 [==============================] - 116s 159ms/step - loss: 0.2426 - accuracy: 0.9032 - val_loss: 0.1778 - val_accuracy: 0.9314\nEpoch 7/100\n734/734 [==============================] - 117s 159ms/step - loss: 0.2431 - accuracy: 0.9038 - val_loss: 0.2072 - val_accuracy: 0.9130\nEpoch 8/100\n734/734 [==============================] - 117s 159ms/step - loss: 0.2381 - accuracy: 0.9051 - val_loss: 0.1969 - val_accuracy: 0.9210\nEpoch 9/100\n734/734 [==============================] - 115s 157ms/step - loss: 0.2328 - accuracy: 0.9075 - val_loss: 0.1722 - val_accuracy: 0.9342\nEpoch 10/100\n734/734 [==============================] - 117s 159ms/step - loss: 0.2325 - accuracy: 0.9096 - val_loss: 0.1728 - val_accuracy: 0.9324\nEpoch 11/100\n734/734 [==============================] - 117s 159ms/step - loss: 0.2313 - accuracy: 0.9092 - val_loss: 0.1661 - val_accuracy: 0.9365\nEpoch 12/100\n734/734 [==============================] - 116s 158ms/step - loss: 0.2283 - accuracy: 0.9096 - val_loss: 0.1634 - val_accuracy: 0.9364\nEpoch 13/100\n734/734 [==============================] - 116s 157ms/step - loss: 0.2237 - accuracy: 0.9117 - val_loss: 0.1706 - val_accuracy: 0.9334\nEpoch 14/100\n734/734 [==============================] - 116s 158ms/step - loss: 0.2251 - accuracy: 0.9121 - val_loss: 0.1709 - val_accuracy: 0.9348\nEpoch 15/100\n734/734 [==============================] - 116s 158ms/step - loss: 0.2195 - accuracy: 0.9127 - val_loss: 0.1911 - val_accuracy: 0.9251\nEpoch 16/100\n734/734 [==============================] - 115s 157ms/step - loss: 0.2199 - accuracy: 0.9133 - val_loss: 0.1642 - val_accuracy: 0.9379\nEpoch 17/100\n734/734 [==============================] - 116s 159ms/step - loss: 0.2178 - accuracy: 0.9147 - val_loss: 0.1701 - val_accuracy: 0.9321\nEpoch 18/100\n734/734 [==============================] - 116s 158ms/step - loss: 0.2147 - accuracy: 0.9174 - val_loss: 0.1646 - val_accuracy: 0.9378\nEpoch 19/100\n734/734 [==============================] - 116s 159ms/step - loss: 0.2168 - accuracy: 0.9149 - val_loss: 0.1607 - val_accuracy: 0.9386\nEpoch 20/100\n734/734 [==============================] - 117s 159ms/step - loss: 0.2170 - accuracy: 0.9157 - val_loss: 0.1639 - val_accuracy: 0.9371\nEpoch 21/100\n734/734 [==============================] - 116s 158ms/step - loss: 0.2147 - accuracy: 0.9159 - val_loss: 0.1641 - val_accuracy: 0.9374\nEpoch 22/100\n734/734 [==============================] - 116s 158ms/step - loss: 0.2105 - accuracy: 0.9176 - val_loss: 0.1689 - val_accuracy: 0.9335\nEpoch 23/100\n734/734 [==============================] - 116s 159ms/step - loss: 0.2124 - accuracy: 0.9172 - val_loss: 0.1788 - val_accuracy: 0.9295\nEpoch 24/100\n734/734 [==============================] - 116s 158ms/step - loss: 0.2087 - accuracy: 0.9187 - val_loss: 0.1618 - val_accuracy: 0.9382\nEpoch 25/100\n734/734 [==============================] - 115s 157ms/step - loss: 0.2080 - accuracy: 0.9177 - val_loss: 0.1660 - val_accuracy: 0.9363\nEpoch 26/100\n734/734 [==============================] - 117s 159ms/step - loss: 0.2104 - accuracy: 0.9190 - val_loss: 0.1691 - val_accuracy: 0.9347\nEpoch 27/100\n734/734 [==============================] - 115s 157ms/step - loss: 0.2063 - accuracy: 0.9202 - val_loss: 0.1751 - val_accuracy: 0.9312\nEpoch 28/100\n734/734 [==============================] - 115s 157ms/step - loss: 0.2059 - accuracy: 0.9196 - val_loss: 0.1881 - val_accuracy: 0.9283\nEpoch 29/100\n734/734 [==============================] - 115s 157ms/step - loss: 0.2066 - accuracy: 0.9207 - val_loss: 0.1633 - val_accuracy: 0.9387\nEpoch 30/100\n734/734 [==============================] - 115s 157ms/step - loss: 0.2081 - accuracy: 0.9194 - val_loss: 0.1594 - val_accuracy: 0.9378\nEpoch 31/100\n734/734 [==============================] - 115s 157ms/step - loss: 0.2042 - accuracy: 0.9216 - val_loss: 0.1545 - val_accuracy: 0.9417\nEpoch 32/100\n734/734 [==============================] - 115s 156ms/step - loss: 0.2054 - accuracy: 0.9205 - val_loss: 0.1647 - val_accuracy: 0.9369\nEpoch 33/100\n734/734 [==============================] - 114s 156ms/step - loss: 0.2006 - accuracy: 0.9224 - val_loss: 0.1513 - val_accuracy: 0.9434\nEpoch 34/100\n734/734 [==============================] - 115s 157ms/step - loss: 0.2033 - accuracy: 0.9220 - val_loss: 0.1869 - val_accuracy: 0.9277\nEpoch 35/100\n734/734 [==============================] - 116s 158ms/step - loss: 0.2004 - accuracy: 0.9221 - val_loss: 0.1559 - val_accuracy: 0.9395\nEpoch 36/100\n734/734 [==============================] - 115s 156ms/step - loss: 0.2013 - accuracy: 0.9221 - val_loss: 0.1651 - val_accuracy: 0.9369\nEpoch 37/100\n734/734 [==============================] - 115s 156ms/step - loss: 0.2031 - accuracy: 0.9215 - val_loss: 0.1620 - val_accuracy: 0.9372\nEpoch 38/100\n734/734 [==============================] - 115s 156ms/step - loss: 0.1994 - accuracy: 0.9229 - val_loss: 0.1806 - val_accuracy: 0.9316\nEpoch 39/100\n734/734 [==============================] - 114s 156ms/step - loss: 0.2013 - accuracy: 0.9229 - val_loss: 0.1569 - val_accuracy: 0.9402\nEpoch 40/100\n734/734 [==============================] - 115s 156ms/step - loss: 0.2027 - accuracy: 0.9216 - val_loss: 0.1641 - val_accuracy: 0.9375\nEpoch 41/100\n734/734 [==============================] - 115s 156ms/step - loss: 0.1987 - accuracy: 0.9238 - val_loss: 0.1566 - val_accuracy: 0.9434\nEpoch 42/100\n734/734 [==============================] - 115s 157ms/step - loss: 0.1994 - accuracy: 0.9225 - val_loss: 0.1630 - val_accuracy: 0.9392\nEpoch 43/100\n734/734 [==============================] - 116s 158ms/step - loss: 0.2001 - accuracy: 0.9233 - val_loss: 0.1619 - val_accuracy: 0.9393\nEpoch 44/100\n734/734 [==============================] - 115s 157ms/step - loss: 0.1963 - accuracy: 0.9254 - val_loss: 0.1597 - val_accuracy: 0.9397\nEpoch 45/100\n734/734 [==============================] - 118s 161ms/step - loss: 0.1983 - accuracy: 0.9239 - val_loss: 0.1639 - val_accuracy: 0.9391\nEpoch 46/100\n734/734 [==============================] - 114s 156ms/step - loss: 0.1957 - accuracy: 0.9250 - val_loss: 0.1671 - val_accuracy: 0.9379\nEpoch 47/100\n734/734 [==============================] - 114s 155ms/step - loss: 0.1964 - accuracy: 0.9242 - val_loss: 0.1514 - val_accuracy: 0.9428\nEpoch 48/100\n734/734 [==============================] - 115s 156ms/step - loss: 0.1950 - accuracy: 0.9249 - val_loss: 0.1671 - val_accuracy: 0.9367\nEpoch 49/100\n734/734 [==============================] - 114s 155ms/step - loss: 0.1946 - accuracy: 0.9243 - val_loss: 0.1540 - val_accuracy: 0.9427\nEpoch 50/100\n734/734 [==============================] - 116s 158ms/step - loss: 0.1924 - accuracy: 0.9262 - val_loss: 0.1514 - val_accuracy: 0.9434\nEpoch 51/100\n734/734 [==============================] - 115s 156ms/step - loss: 0.1929 - accuracy: 0.9258 - val_loss: 0.1566 - val_accuracy: 0.9403\nEpoch 52/100\n734/734 [==============================] - 115s 156ms/step - loss: 0.1957 - accuracy: 0.9257 - val_loss: 0.1597 - val_accuracy: 0.9407\nEpoch 53/100\n734/734 [==============================] - 114s 156ms/step - loss: 0.1933 - accuracy: 0.9257 - val_loss: 0.1567 - val_accuracy: 0.9409\nEpoch 54/100\n734/734 [==============================] - 114s 155ms/step - loss: 0.1937 - accuracy: 0.9264 - val_loss: 0.1499 - val_accuracy: 0.9439\nEpoch 55/100\n734/734 [==============================] - 114s 155ms/step - loss: 0.1932 - accuracy: 0.9261 - val_loss: 0.1467 - val_accuracy: 0.9453\nEpoch 56/100\n734/734 [==============================] - 114s 156ms/step - loss: 0.1951 - accuracy: 0.9248 - val_loss: 0.1699 - val_accuracy: 0.9348\nEpoch 57/100\n734/734 [==============================] - 114s 155ms/step - loss: 0.1941 - accuracy: 0.9259 - val_loss: 0.1581 - val_accuracy: 0.9411\nEpoch 58/100\n734/734 [==============================] - 114s 155ms/step - loss: 0.1930 - accuracy: 0.9265 - val_loss: 0.1520 - val_accuracy: 0.9436\nEpoch 59/100\n734/734 [==============================] - 113s 154ms/step - loss: 0.1898 - accuracy: 0.9271 - val_loss: 0.1641 - val_accuracy: 0.9387\nEpoch 60/100\n734/734 [==============================] - 113s 154ms/step - loss: 0.1889 - accuracy: 0.9282 - val_loss: 0.1567 - val_accuracy: 0.9406\nEpoch 61/100\n734/734 [==============================] - 113s 153ms/step - loss: 0.1904 - accuracy: 0.9267 - val_loss: 0.1532 - val_accuracy: 0.9416\nEpoch 62/100\n734/734 [==============================] - 113s 154ms/step - loss: 0.1903 - accuracy: 0.9263 - val_loss: 0.1530 - val_accuracy: 0.9439\nEpoch 63/100\n734/734 [==============================] - 113s 154ms/step - loss: 0.1891 - accuracy: 0.9281 - val_loss: 0.1436 - val_accuracy: 0.9456\nEpoch 64/100\n734/734 [==============================] - 113s 155ms/step - loss: 0.1927 - accuracy: 0.9267 - val_loss: 0.1548 - val_accuracy: 0.9426\nEpoch 65/100\n734/734 [==============================] - 113s 154ms/step - loss: 0.1919 - accuracy: 0.9275 - val_loss: 0.1460 - val_accuracy: 0.9450\nEpoch 66/100\n734/734 [==============================] - 114s 155ms/step - loss: 0.1909 - accuracy: 0.9260 - val_loss: 0.1517 - val_accuracy: 0.9444\nEpoch 67/100\n734/734 [==============================] - 113s 154ms/step - loss: 0.1854 - accuracy: 0.9279 - val_loss: 0.1652 - val_accuracy: 0.9403\nEpoch 68/100\n734/734 [==============================] - 113s 154ms/step - loss: 0.1873 - accuracy: 0.9283 - val_loss: 0.1491 - val_accuracy: 0.9452\nEpoch 69/100\n734/734 [==============================] - 113s 153ms/step - loss: 0.1902 - accuracy: 0.9274 - val_loss: 0.1518 - val_accuracy: 0.9436\nEpoch 70/100\n734/734 [==============================] - 113s 154ms/step - loss: 0.1886 - accuracy: 0.9278 - val_loss: 0.1622 - val_accuracy: 0.9383\nEpoch 71/100\n734/734 [==============================] - 114s 155ms/step - loss: 0.1892 - accuracy: 0.9286 - val_loss: 0.1529 - val_accuracy: 0.9428\nEpoch 72/100\n734/734 [==============================] - 113s 154ms/step - loss: 0.1900 - accuracy: 0.9267 - val_loss: 0.1483 - val_accuracy: 0.9446\nEpoch 73/100\n734/734 [==============================] - 113s 154ms/step - loss: 0.1896 - accuracy: 0.9276 - val_loss: 0.1480 - val_accuracy: 0.9444\nEpoch 74/100\n734/734 [==============================] - 113s 154ms/step - loss: 0.1874 - accuracy: 0.9292 - val_loss: 0.1459 - val_accuracy: 0.9458\nEpoch 75/100\n734/734 [==============================] - 113s 153ms/step - loss: 0.1873 - accuracy: 0.9274 - val_loss: 0.1622 - val_accuracy: 0.9391\nEpoch 76/100\n734/734 [==============================] - 113s 154ms/step - loss: 0.1877 - accuracy: 0.9271 - val_loss: 0.1566 - val_accuracy: 0.9433\nEpoch 77/100\n734/734 [==============================] - 113s 154ms/step - loss: 0.1882 - accuracy: 0.9287 - val_loss: 0.1525 - val_accuracy: 0.9442\nEpoch 78/100\n734/734 [==============================] - 113s 154ms/step - loss: 0.1873 - accuracy: 0.9293 - val_loss: 0.1524 - val_accuracy: 0.9442\nEpoch 79/100\n734/734 [==============================] - 113s 153ms/step - loss: 0.1841 - accuracy: 0.9294 - val_loss: 0.1594 - val_accuracy: 0.9416\nEpoch 80/100\n734/734 [==============================] - 112s 152ms/step - loss: 0.1870 - accuracy: 0.9284 - val_loss: 0.1435 - val_accuracy: 0.9474\nEpoch 81/100\n734/734 [==============================] - 112s 152ms/step - loss: 0.1872 - accuracy: 0.9280 - val_loss: 0.1446 - val_accuracy: 0.9457\nEpoch 82/100\n734/734 [==============================] - 113s 154ms/step - loss: 0.1860 - accuracy: 0.9287 - val_loss: 0.1534 - val_accuracy: 0.9415\nEpoch 83/100\n734/734 [==============================] - 113s 154ms/step - loss: 0.1860 - accuracy: 0.9298 - val_loss: 0.1554 - val_accuracy: 0.9414\nEpoch 84/100\n734/734 [==============================] - 112s 153ms/step - loss: 0.1839 - accuracy: 0.9293 - val_loss: 0.1647 - val_accuracy: 0.9393\nEpoch 85/100\n734/734 [==============================] - 113s 154ms/step - loss: 0.1882 - accuracy: 0.9277 - val_loss: 0.1548 - val_accuracy: 0.9425\nEpoch 86/100\n734/734 [==============================] - 112s 153ms/step - loss: 0.1844 - accuracy: 0.9288 - val_loss: 0.1516 - val_accuracy: 0.9451\nEpoch 87/100\n734/734 [==============================] - 113s 154ms/step - loss: 0.1860 - accuracy: 0.9282 - val_loss: 0.1482 - val_accuracy: 0.9447\nEpoch 88/100\n734/734 [==============================] - 112s 153ms/step - loss: 0.1859 - accuracy: 0.9302 - val_loss: 0.1462 - val_accuracy: 0.9464\nEpoch 89/100\n734/734 [==============================] - 113s 154ms/step - loss: 0.1857 - accuracy: 0.9287 - val_loss: 0.1513 - val_accuracy: 0.9442\nEpoch 90/100\n734/734 [==============================] - 113s 154ms/step - loss: 0.1854 - accuracy: 0.9297 - val_loss: 0.1481 - val_accuracy: 0.9466\nEpoch 91/100\n734/734 [==============================] - 113s 154ms/step - loss: 0.1828 - accuracy: 0.9303 - val_loss: 0.1446 - val_accuracy: 0.9470\nEpoch 92/100\n734/734 [==============================] - 113s 153ms/step - loss: 0.1835 - accuracy: 0.9294 - val_loss: 0.1471 - val_accuracy: 0.9438\nEpoch 93/100\n734/734 [==============================] - 112s 153ms/step - loss: 0.1863 - accuracy: 0.9292 - val_loss: 0.1453 - val_accuracy: 0.9452\nEpoch 94/100\n734/734 [==============================] - 112s 153ms/step - loss: 0.1833 - accuracy: 0.9319 - val_loss: 0.1495 - val_accuracy: 0.9451\nEpoch 95/100\n734/734 [==============================] - 112s 153ms/step - loss: 0.1826 - accuracy: 0.9308 - val_loss: 0.1547 - val_accuracy: 0.9422\nEpoch 96/100\n734/734 [==============================] - 113s 154ms/step - loss: 0.1843 - accuracy: 0.9296 - val_loss: 0.1516 - val_accuracy: 0.9422\nEpoch 97/100\n734/734 [==============================] - 113s 154ms/step - loss: 0.1850 - accuracy: 0.9297 - val_loss: 0.1588 - val_accuracy: 0.9403\nEpoch 98/100\n734/734 [==============================] - 112s 153ms/step - loss: 0.1814 - accuracy: 0.9306 - val_loss: 0.1559 - val_accuracy: 0.9418\nEpoch 99/100\n734/734 [==============================] - 113s 154ms/step - loss: 0.1808 - accuracy: 0.9302 - val_loss: 0.1532 - val_accuracy: 0.9443\nEpoch 100/100\n734/734 [==============================] - 113s 153ms/step - loss: 0.1797 - accuracy: 0.9309 - val_loss: 0.1449 - val_accuracy: 0.9464\n",
     "output_type": "stream"
    }
   ]
  },
  {
   "cell_type": "code",
   "source": [
    "# save the model to disk\n",
    "model.save('gender_detection4')"
   ],
   "metadata": {
    "id": "9BDHsAGvRDwG",
    "is_executing": true,
    "execution": {
     "iopub.status.busy": "2023-12-17T13:36:38.102400Z",
     "iopub.execute_input": "2023-12-17T13:36:38.102700Z",
     "iopub.status.idle": "2023-12-17T13:36:40.393857Z",
     "shell.execute_reply.started": "2023-12-17T13:36:38.102674Z",
     "shell.execute_reply": "2023-12-17T13:36:40.393038Z"
    },
    "trusted": true
   },
   "execution_count": 13,
   "outputs": []
  },
  {
   "cell_type": "code",
   "source": [
    "# plot training/validation loss/accuracy\n",
    "plt.style.use(\"ggplot\")\n",
    "plt.figure()\n",
    "N = epochs\n",
    "plt.plot(np.arange(0,N), H.history[\"loss\"], label=\"train_loss\")\n",
    "plt.plot(np.arange(0,N), H.history[\"val_loss\"], label=\"val_loss\")\n",
    "plt.plot(np.arange(0,N), H.history[\"accuracy\"], label=\"train_accuracy\")\n",
    "plt.plot(np.arange(0,N), H.history[\"val_accuracy\"], label=\"val_accuracy\")\n",
    "\n",
    "plt.title(\"Training Loss and Accuracy\")\n",
    "plt.xlabel(\"Epoch #\")\n",
    "plt.ylabel(\"Loss/Accuracy\")\n",
    "plt.legend(loc=\"upper right\")\n",
    "\n",
    "# save plot to disk\n",
    "plt.savefig('plot.png')"
   ],
   "metadata": {
    "ExecuteTime": {
     "end_time": "2023-12-03T05:38:50.306716300Z",
     "start_time": "2023-12-03T05:38:49.065236700Z"
    },
    "id": "2evfuhlQbe27",
    "execution": {
     "iopub.status.busy": "2023-12-17T13:36:40.395192Z",
     "iopub.execute_input": "2023-12-17T13:36:40.395509Z",
     "iopub.status.idle": "2023-12-17T13:36:40.863571Z",
     "shell.execute_reply.started": "2023-12-17T13:36:40.395483Z",
     "shell.execute_reply": "2023-12-17T13:36:40.862660Z"
    },
    "trusted": true
   },
   "execution_count": 14,
   "outputs": [
    {
     "output_type": "display_data",
     "data": {
      "text/plain": "<Figure size 640x480 with 1 Axes>",
      "image/png": "[encoded data removed]"
     },
     "metadata": {}
    }
   ]
  }
 ]
}
