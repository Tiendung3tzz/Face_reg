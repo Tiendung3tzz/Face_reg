{
 "nbformat": 4,
 "nbformat_minor": 0,
 "metadata": {
  "colab": {
   "provenance": [],
   "gpuType": "T4"
  },
  "kernelspec": {
   "name": "python3",
   "language": "python",
   "display_name": "Python 3 (ipykernel)"
  },
  "language_info": {
   "name": "python"
  },
  "accelerator": "GPU"
 },
 "cells": [
  {
   "cell_type": "code",
   "execution_count": 19,
   "outputs": [],
   "source": [
    "from tensorflow.keras.preprocessing.image import ImageDataGenerator\n",
    "from tensorflow.keras.optimizers import Adam\n",
    "from tensorflow.keras.preprocessing.image import img_to_array\n",
    "from tensorflow.keras.utils import to_categorical, plot_model\n",
    "from tensorflow.keras.models import Sequential\n",
    "from tensorflow.keras.layers import BatchNormalization, Conv2D, MaxPooling2D, Activation, Flatten, Dropout, Dense\n",
    "from tensorflow.keras import backend as K\n",
    "from sklearn.model_selection import train_test_split\n",
    "import matplotlib.pyplot as plt\n",
    "import numpy as np\n",
    "import random\n",
    "import cv2\n",
    "import os\n",
    "import glob"
   ],
   "metadata": {
    "collapsed": false,
    "ExecuteTime": {
     "end_time": "2023-12-16T19:30:48.788069600Z",
     "start_time": "2023-12-16T19:30:48.773423900Z"
    }
   }
  },
  {
   "cell_type": "code",
   "source": [
    "# initial parameters\n",
    "epochs = 100\n",
    "lr = 1e-3\n",
    "batch_size = 64\n",
    "img_dims = (96,96,3)"
   ],
   "metadata": {
    "id": "BujWV1W1JLVv",
    "ExecuteTime": {
     "end_time": "2023-12-16T19:30:50.321006700Z",
     "start_time": "2023-12-16T19:30:50.313998800Z"
    }
   },
   "execution_count": 20,
   "outputs": []
  },
  {
   "cell_type": "code",
   "source": [
    "data_train = []\n",
    "labels_train = []\n",
    "data_test = []\n",
    "labels_test = []"
   ],
   "metadata": {
    "id": "AAk1KHOQJOnI",
    "ExecuteTime": {
     "end_time": "2023-12-16T19:30:52.288678200Z",
     "start_time": "2023-12-16T19:30:52.260279200Z"
    }
   },
   "execution_count": 21,
   "outputs": []
  },
  {
   "cell_type": "code",
   "source": [
    "# load image files from the dataset\n",
    "image_train = [f for f in glob.glob(r'./data3/train' + \"/**/*\", recursive=True) if not os.path.isdir(f)]\n",
    "random.shuffle(image_train)"
   ],
   "metadata": {
    "id": "f1QcpL-uJOxP",
    "ExecuteTime": {
     "end_time": "2023-12-16T19:30:58.857663300Z",
     "start_time": "2023-12-16T19:30:53.689876400Z"
    }
   },
   "execution_count": 22,
   "outputs": []
  },
  {
   "cell_type": "code",
   "execution_count": 23,
   "outputs": [],
   "source": [
    "# load image files from the dataset\n",
    "image_test = [f for f in glob.glob(r'./data3/Validation' + \"/**/*\", recursive=True) if not os.path.isdir(f)]\n",
    "random.shuffle(image_test)"
   ],
   "metadata": {
    "collapsed": false,
    "ExecuteTime": {
     "end_time": "2023-12-16T19:31:00.009534500Z",
     "start_time": "2023-12-16T19:30:58.863670Z"
    }
   }
  },
  {
   "cell_type": "code",
   "source": [
    "# converting images to arrays and labelling the categories\n",
    "for img in image_train:\n",
    "\n",
    "    image = cv2.imread(img)\n",
    "\n",
    "    image = cv2.resize(image, (img_dims[0],img_dims[1]))\n",
    "    image = img_to_array(image)\n",
    "    data_train.append(image)\n",
    "\n",
    "    label = img.split(os.path.sep)[-2] # C:\\Files\\gender_dataset_face\\woman\\face_1162.jpg\n",
    "    if label == \"woman\":\n",
    "        label = 1\n",
    "    else:\n",
    "        label = 0\n",
    "\n",
    "    labels_train.append([label]) # [[1], [0], [0], ...]"
   ],
   "metadata": {
    "id": "0imrQ9VsJ1tg",
    "ExecuteTime": {
     "end_time": "2023-12-16T19:38:34.047014700Z",
     "start_time": "2023-12-16T19:31:11.303886700Z"
    }
   },
   "execution_count": 24,
   "outputs": []
  },
  {
   "cell_type": "code",
   "source": [
    "# pre-processing\n",
    "data_train = np.array(data_train, dtype=\"float32\") / 255.0\n",
    "labels_train = np.array(labels_train)"
   ],
   "metadata": {
    "id": "3La1XBCqLt-L",
    "ExecuteTime": {
     "end_time": "2023-12-16T19:41:56.378448700Z",
     "start_time": "2023-12-16T19:38:34.063719800Z"
    }
   },
   "execution_count": 25,
   "outputs": []
  },
  {
   "cell_type": "code",
   "execution_count": 26,
   "outputs": [],
   "source": [
    "# converting images to arrays and labelling the categories\n",
    "for img in image_test:\n",
    "\n",
    "    image = cv2.imread(img)\n",
    "\n",
    "    image = cv2.resize(image, (img_dims[0],img_dims[1]))\n",
    "    image = img_to_array(image)\n",
    "    data_test.append(image)\n",
    "\n",
    "    label = img.split(os.path.sep)[-2] # C:\\Files\\gender_dataset_face\\woman\\face_1162.jpg\n",
    "    if label == \"woman\":\n",
    "        label = 1\n",
    "    else:\n",
    "        label = 0\n",
    "\n",
    "    labels_test.append([label]) # [[1], [0], [0], ...]"
   ],
   "metadata": {
    "collapsed": false,
    "ExecuteTime": {
     "end_time": "2023-12-16T19:43:33.922319500Z",
     "start_time": "2023-12-16T19:41:56.394072800Z"
    }
   }
  },
  {
   "cell_type": "code",
   "execution_count": 27,
   "outputs": [],
   "source": [
    "# pre-processing\n",
    "data_test = np.array(data_test, dtype=\"float32\") / 255.0\n",
    "labels_test = np.array(labels_test)"
   ],
   "metadata": {
    "collapsed": false,
    "ExecuteTime": {
     "end_time": "2023-12-16T19:43:42.130431400Z",
     "start_time": "2023-12-16T19:43:33.948608Z"
    }
   }
  },
  {
   "cell_type": "code",
   "source": [
    "trainY = labels_train # [[1, 0], [0, 1], [0, 1], ...]\n",
    "testY = labels_test"
   ],
   "metadata": {
    "id": "_vhQqGDILz95",
    "ExecuteTime": {
     "end_time": "2023-12-16T19:46:24.357372600Z",
     "start_time": "2023-12-16T19:46:24.345707200Z"
    }
   },
   "execution_count": 29,
   "outputs": []
  },
  {
   "cell_type": "code",
   "execution_count": 31,
   "outputs": [],
   "source": [
    "np.save('data_train.npy', data_train)\n",
    "np.save('data_test.npy', data_test)\n",
    "np.save('trainY.npy', trainY)\n",
    "np.save('testY.npy', testY)"
   ],
   "metadata": {
    "collapsed": false,
    "ExecuteTime": {
     "end_time": "2023-12-16T19:48:15.708188600Z",
     "start_time": "2023-12-16T19:46:41.123496Z"
    }
   }
  }
 ]
}
